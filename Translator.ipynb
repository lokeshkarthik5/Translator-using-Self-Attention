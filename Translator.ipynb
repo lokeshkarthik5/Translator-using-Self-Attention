{
 "cells": [
  {
   "cell_type": "code",
   "execution_count": 1,
   "metadata": {},
   "outputs": [],
   "source": [
    "import tensorflow_datasets as tfds\n",
    "import tensorflow as tf\n",
    "\n",
    "import time\n",
    "import numpy as np\n",
    "import matplotlib.pyplot as plt"
   ]
  },
  {
   "cell_type": "code",
   "execution_count": 2,
   "metadata": {},
   "outputs": [
    {
     "name": "stdout",
     "output_type": "stream",
     "text": [
      "\u001b[1mDownloading and preparing dataset ted_hrlr_translate (124.94 MiB) to C:\\Users\\Karthik\\tensorflow_datasets\\ted_hrlr_translate\\pt_to_en\\0.0.1...\u001b[0m\n"
     ]
    },
    {
     "data": {
      "application/vnd.jupyter.widget-view+json": {
       "model_id": "19568fbd9502452c80e74a6c2c381260",
       "version_major": 2,
       "version_minor": 0
      },
      "text/plain": [
       "HBox(children=(FloatProgress(value=1.0, bar_style='info', description='Dl Completed...', max=1.0, style=Progre…"
      ]
     },
     "metadata": {},
     "output_type": "display_data"
    },
    {
     "data": {
      "application/vnd.jupyter.widget-view+json": {
       "model_id": "48ec45c1a9c24322be4107424f282922",
       "version_major": 2,
       "version_minor": 0
      },
      "text/plain": [
       "HBox(children=(FloatProgress(value=1.0, bar_style='info', description='Dl Size...', max=1.0, style=ProgressSty…"
      ]
     },
     "metadata": {},
     "output_type": "display_data"
    },
    {
     "data": {
      "application/vnd.jupyter.widget-view+json": {
       "model_id": "1a84298ebf8f400bba548cb1c016cfbc",
       "version_major": 2,
       "version_minor": 0
      },
      "text/plain": [
       "HBox(children=(FloatProgress(value=1.0, bar_style='info', description='Extraction completed...', max=1.0, styl…"
      ]
     },
     "metadata": {},
     "output_type": "display_data"
    },
    {
     "name": "stdout",
     "output_type": "stream",
     "text": [
      "\n",
      "\n",
      "\n",
      "\n",
      "\n",
      "\n"
     ]
    },
    {
     "data": {
      "application/vnd.jupyter.widget-view+json": {
       "model_id": "",
       "version_major": 2,
       "version_minor": 0
      },
      "text/plain": [
       "HBox(children=(FloatProgress(value=1.0, bar_style='info', max=1.0), HTML(value='')))"
      ]
     },
     "metadata": {},
     "output_type": "display_data"
    },
    {
     "name": "stdout",
     "output_type": "stream",
     "text": [
      "\r"
     ]
    },
    {
     "data": {
      "application/vnd.jupyter.widget-view+json": {
       "model_id": "",
       "version_major": 2,
       "version_minor": 0
      },
      "text/plain": [
       "HBox(children=(FloatProgress(value=0.0, description='Shuffling...', max=1.0, style=ProgressStyle(description_w…"
      ]
     },
     "metadata": {},
     "output_type": "display_data"
    },
    {
     "name": "stdout",
     "output_type": "stream",
     "text": [
      "WARNING:tensorflow:From D:\\Anaconda\\envs\\Tensorflow\\lib\\site-packages\\tensorflow_datasets\\core\\file_format_adapter.py:209: tf_record_iterator (from tensorflow.python.lib.io.tf_record) is deprecated and will be removed in a future version.\n",
      "Instructions for updating:\n",
      "Use eager execution and: \n",
      "`tf.data.TFRecordDataset(path)`\n"
     ]
    },
    {
     "name": "stderr",
     "output_type": "stream",
     "text": [
      "WARNING:tensorflow:From D:\\Anaconda\\envs\\Tensorflow\\lib\\site-packages\\tensorflow_datasets\\core\\file_format_adapter.py:209: tf_record_iterator (from tensorflow.python.lib.io.tf_record) is deprecated and will be removed in a future version.\n",
      "Instructions for updating:\n",
      "Use eager execution and: \n",
      "`tf.data.TFRecordDataset(path)`\n"
     ]
    },
    {
     "data": {
      "application/vnd.jupyter.widget-view+json": {
       "model_id": "",
       "version_major": 2,
       "version_minor": 0
      },
      "text/plain": [
       "HBox(children=(FloatProgress(value=1.0, bar_style='info', description='Reading...', max=1.0, style=ProgressSty…"
      ]
     },
     "metadata": {},
     "output_type": "display_data"
    },
    {
     "data": {
      "application/vnd.jupyter.widget-view+json": {
       "model_id": "",
       "version_major": 2,
       "version_minor": 0
      },
      "text/plain": [
       "HBox(children=(FloatProgress(value=0.0, description='Writing...', max=51785.0, style=ProgressStyle(description…"
      ]
     },
     "metadata": {},
     "output_type": "display_data"
    },
    {
     "name": "stdout",
     "output_type": "stream",
     "text": [
      "\r"
     ]
    },
    {
     "data": {
      "application/vnd.jupyter.widget-view+json": {
       "model_id": "",
       "version_major": 2,
       "version_minor": 0
      },
      "text/plain": [
       "HBox(children=(FloatProgress(value=1.0, bar_style='info', max=1.0), HTML(value='')))"
      ]
     },
     "metadata": {},
     "output_type": "display_data"
    },
    {
     "name": "stdout",
     "output_type": "stream",
     "text": [
      "\r"
     ]
    },
    {
     "data": {
      "application/vnd.jupyter.widget-view+json": {
       "model_id": "",
       "version_major": 2,
       "version_minor": 0
      },
      "text/plain": [
       "HBox(children=(FloatProgress(value=0.0, description='Shuffling...', max=1.0, style=ProgressStyle(description_w…"
      ]
     },
     "metadata": {},
     "output_type": "display_data"
    },
    {
     "data": {
      "application/vnd.jupyter.widget-view+json": {
       "model_id": "",
       "version_major": 2,
       "version_minor": 0
      },
      "text/plain": [
       "HBox(children=(FloatProgress(value=1.0, bar_style='info', description='Reading...', max=1.0, style=ProgressSty…"
      ]
     },
     "metadata": {},
     "output_type": "display_data"
    },
    {
     "data": {
      "application/vnd.jupyter.widget-view+json": {
       "model_id": "",
       "version_major": 2,
       "version_minor": 0
      },
      "text/plain": [
       "HBox(children=(FloatProgress(value=0.0, description='Writing...', max=1193.0, style=ProgressStyle(description_…"
      ]
     },
     "metadata": {},
     "output_type": "display_data"
    },
    {
     "name": "stdout",
     "output_type": "stream",
     "text": [
      "\r"
     ]
    },
    {
     "data": {
      "application/vnd.jupyter.widget-view+json": {
       "model_id": "",
       "version_major": 2,
       "version_minor": 0
      },
      "text/plain": [
       "HBox(children=(FloatProgress(value=1.0, bar_style='info', max=1.0), HTML(value='')))"
      ]
     },
     "metadata": {},
     "output_type": "display_data"
    },
    {
     "name": "stdout",
     "output_type": "stream",
     "text": [
      "\r"
     ]
    },
    {
     "data": {
      "application/vnd.jupyter.widget-view+json": {
       "model_id": "",
       "version_major": 2,
       "version_minor": 0
      },
      "text/plain": [
       "HBox(children=(FloatProgress(value=0.0, description='Shuffling...', max=1.0, style=ProgressStyle(description_w…"
      ]
     },
     "metadata": {},
     "output_type": "display_data"
    },
    {
     "data": {
      "application/vnd.jupyter.widget-view+json": {
       "model_id": "",
       "version_major": 2,
       "version_minor": 0
      },
      "text/plain": [
       "HBox(children=(FloatProgress(value=1.0, bar_style='info', description='Reading...', max=1.0, style=ProgressSty…"
      ]
     },
     "metadata": {},
     "output_type": "display_data"
    },
    {
     "data": {
      "application/vnd.jupyter.widget-view+json": {
       "model_id": "",
       "version_major": 2,
       "version_minor": 0
      },
      "text/plain": [
       "HBox(children=(FloatProgress(value=0.0, description='Writing...', max=1803.0, style=ProgressStyle(description_…"
      ]
     },
     "metadata": {},
     "output_type": "display_data"
    },
    {
     "name": "stdout",
     "output_type": "stream",
     "text": [
      "\u001b[1mDataset ted_hrlr_translate downloaded and prepared to C:\\Users\\Karthik\\tensorflow_datasets\\ted_hrlr_translate\\pt_to_en\\0.0.1. Subsequent calls will reuse this data.\u001b[0m\n"
     ]
    },
    {
     "name": "stderr",
     "output_type": "stream",
     "text": [
      "WARNING:absl:Warning: Setting shuffle_files=True because split=TRAIN and shuffle_files=None. This behavior will be deprecated on 2019-08-06, at which point shuffle_files=False will be the default for all splits.\n"
     ]
    }
   ],
   "source": [
    "examples, metadata = tfds.load('ted_hrlr_translate/pt_to_en', with_info=True,\n",
    "                               as_supervised=True)\n",
    "train_examples, val_examples = examples['train'], examples['validation']"
   ]
  },
  {
   "cell_type": "code",
   "execution_count": 3,
   "metadata": {},
   "outputs": [],
   "source": [
    "tokenizer_en = tfds.features.text.SubwordTextEncoder.build_from_corpus(\n",
    "    (en.numpy() for pt, en in train_examples), target_vocab_size=2**13)\n",
    "\n",
    "tokenizer_pt = tfds.features.text.SubwordTextEncoder.build_from_corpus(\n",
    "    (pt.numpy() for pt, en in train_examples), target_vocab_size=2**13)"
   ]
  },
  {
   "cell_type": "code",
   "execution_count": 4,
   "metadata": {},
   "outputs": [
    {
     "name": "stdout",
     "output_type": "stream",
     "text": [
      "Tokenized string is [7915, 1248, 7946, 7194, 13, 2799, 7877]\n",
      "The original string: Transformer is awesome.\n"
     ]
    }
   ],
   "source": [
    "sample_string = 'Transformer is awesome.'\n",
    "\n",
    "tokenized_string = tokenizer_en.encode(sample_string)\n",
    "print ('Tokenized string is {}'.format(tokenized_string))\n",
    "\n",
    "original_string = tokenizer_en.decode(tokenized_string)\n",
    "print ('The original string: {}'.format(original_string))\n",
    "\n",
    "assert original_string == sample_string"
   ]
  },
  {
   "cell_type": "code",
   "execution_count": 5,
   "metadata": {},
   "outputs": [
    {
     "name": "stdout",
     "output_type": "stream",
     "text": [
      "7915 ----> T\n",
      "1248 ----> ran\n",
      "7946 ----> s\n",
      "7194 ----> former \n",
      "13 ----> is \n",
      "2799 ----> awesome\n",
      "7877 ----> .\n"
     ]
    }
   ],
   "source": [
    "for ts in tokenized_string:\n",
    "    print ('{} ----> {}'.format(ts, tokenizer_en.decode([ts])))"
   ]
  },
  {
   "cell_type": "code",
   "execution_count": 6,
   "metadata": {},
   "outputs": [],
   "source": [
    "BUFFER_SIZE = 20000\n",
    "BATCH_SIZE = 64"
   ]
  },
  {
   "cell_type": "code",
   "execution_count": 7,
   "metadata": {},
   "outputs": [],
   "source": [
    "def encode(lang1, lang2):\n",
    "    lang1 = [tokenizer_pt.vocab_size] + tokenizer_pt.encode(\n",
    "      lang1.numpy()) + [tokenizer_pt.vocab_size+1]\n",
    "\n",
    "    lang2 = [tokenizer_en.vocab_size] + tokenizer_en.encode(\n",
    "      lang2.numpy()) + [tokenizer_en.vocab_size+1]\n",
    "    return lang1, lang2"
   ]
  },
  {
   "cell_type": "code",
   "execution_count": 8,
   "metadata": {},
   "outputs": [],
   "source": [
    "def tf_encode(pt, en):\n",
    "    result_pt, result_en = tf.py_function(encode, [pt, en], [tf.int64, tf.int64])\n",
    "    result_pt.set_shape([None])\n",
    "    result_en.set_shape([None])\n",
    "    return result_pt, result_en"
   ]
  },
  {
   "cell_type": "code",
   "execution_count": 9,
   "metadata": {},
   "outputs": [],
   "source": [
    "MAX_LENGTH = 40"
   ]
  },
  {
   "cell_type": "code",
   "execution_count": 10,
   "metadata": {},
   "outputs": [],
   "source": [
    "def filter_max_length(x, y, max_length=MAX_LENGTH):\n",
    "    return tf.logical_and(tf.size(x) <= max_length,\n",
    "                        tf.size(y) <= max_length)"
   ]
  },
  {
   "cell_type": "code",
   "execution_count": 21,
   "metadata": {},
   "outputs": [],
   "source": [
    "train_dataset = train_examples.map(tf_encode)\n",
    "train_dataset = train_dataset.filter(filter_max_length)\n",
    "# cache the dataset to memory to get a speedup while reading from it.\n",
    "train_dataset = train_dataset.cache()\n",
    "train_dataset = train_dataset.shuffle(BUFFER_SIZE).padded_batch(BATCH_SIZE, padded_shapes=([None],[None]))\n",
    "train_dataset = train_dataset.prefetch(tf.data.experimental.AUTOTUNE)\n",
    "\n",
    "\n",
    "val_dataset = val_examples.map(tf_encode)\n",
    "val_dataset = val_dataset.filter(filter_max_length).padded_batch(BATCH_SIZE, padded_shapes=([None],[None]))"
   ]
  },
  {
   "cell_type": "code",
   "execution_count": 22,
   "metadata": {},
   "outputs": [
    {
     "data": {
      "text/plain": [
       "(<tf.Tensor: shape=(64, 40), dtype=int64, numpy=\n",
       " array([[8214, 1259,    5, ...,    0,    0,    0],\n",
       "        [8214,  299,   13, ...,    0,    0,    0],\n",
       "        [8214,   59,    8, ...,    0,    0,    0],\n",
       "        ...,\n",
       "        [8214,   95,    3, ...,    0,    0,    0],\n",
       "        [8214, 5157,    1, ...,    0,    0,    0],\n",
       "        [8214, 4479, 7990, ...,    0,    0,    0]], dtype=int64)>,\n",
       " <tf.Tensor: shape=(64, 40), dtype=int64, numpy=\n",
       " array([[8087,   18,   12, ...,    0,    0,    0],\n",
       "        [8087,  634,   30, ...,    0,    0,    0],\n",
       "        [8087,   16,   13, ...,    0,    0,    0],\n",
       "        ...,\n",
       "        [8087,   12,   20, ...,    0,    0,    0],\n",
       "        [8087,   17, 4981, ...,    0,    0,    0],\n",
       "        [8087,   12, 5453, ...,    0,    0,    0]], dtype=int64)>)"
      ]
     },
     "execution_count": 22,
     "metadata": {},
     "output_type": "execute_result"
    }
   ],
   "source": [
    "pt_batch, en_batch = next(iter(val_dataset))\n",
    "pt_batch, en_batch"
   ]
  },
  {
   "cell_type": "code",
   "execution_count": 23,
   "metadata": {},
   "outputs": [],
   "source": [
    "def get_angles(pos, i, d_model):\n",
    "    angle_rates = 1 / np.power(10000, (2 * (i//2)) / np.float32(d_model))\n",
    "    return pos * angle_rates"
   ]
  },
  {
   "cell_type": "code",
   "execution_count": 24,
   "metadata": {},
   "outputs": [],
   "source": [
    "def positional_encoding(position, d_model):\n",
    "    angle_rads = get_angles(np.arange(position)[:, np.newaxis],\n",
    "                          np.arange(d_model)[np.newaxis, :],\n",
    "                          d_model)\n",
    "  \n",
    "  # apply sin to even indices in the array; 2i\n",
    "    angle_rads[:, 0::2] = np.sin(angle_rads[:, 0::2])\n",
    "  \n",
    "  # apply cos to odd indices in the array; 2i+1\n",
    "    angle_rads[:, 1::2] = np.cos(angle_rads[:, 1::2])\n",
    "    \n",
    "    pos_encoding = angle_rads[np.newaxis, ...]\n",
    "    \n",
    "    return tf.cast(pos_encoding, dtype=tf.float32)"
   ]
  },
  {
   "cell_type": "code",
   "execution_count": 25,
   "metadata": {},
   "outputs": [
    {
     "name": "stdout",
     "output_type": "stream",
     "text": [
      "(1, 50, 512)\n"
     ]
    },
    {
     "data": {
      "image/png": "[encoded data removed]",
      "text/plain": [
       "<Figure size 432x288 with 2 Axes>"
      ]
     },
     "metadata": {
      "needs_background": "light"
     },
     "output_type": "display_data"
    }
   ],
   "source": [
    "pos_encoding = positional_encoding(50, 512)\n",
    "print (pos_encoding.shape)\n",
    "\n",
    "plt.pcolormesh(pos_encoding[0], cmap='RdBu')\n",
    "plt.xlabel('Depth')\n",
    "plt.xlim((0, 512))\n",
    "plt.ylabel('Position')\n",
    "plt.colorbar()\n",
    "plt.show()"
   ]
  },
  {
   "cell_type": "code",
   "execution_count": 26,
   "metadata": {},
   "outputs": [],
   "source": [
    "def create_padding_mask(seq):\n",
    "    seq = tf.cast(tf.math.equal(seq, 0), tf.float32)\n",
    "    return seq[:, tf.newaxis, tf.newaxis, :]  # (batch_size, 1, 1, seq_len)"
   ]
  },
  {
   "cell_type": "code",
   "execution_count": 27,
   "metadata": {},
   "outputs": [
    {
     "data": {
      "text/plain": [
       "<tf.Tensor: shape=(3, 1, 1, 5), dtype=float32, numpy=\n",
       "array([[[[0., 0., 1., 1., 0.]]],\n",
       "\n",
       "\n",
       "       [[[0., 0., 0., 1., 1.]]],\n",
       "\n",
       "\n",
       "       [[[1., 1., 1., 0., 0.]]]], dtype=float32)>"
      ]
     },
     "execution_count": 27,
     "metadata": {},
     "output_type": "execute_result"
    }
   ],
   "source": [
    "x = tf.constant([[7, 6, 0, 0, 1], [1, 2, 3, 0, 0], [0, 0, 0, 4, 5]])\n",
    "create_padding_mask(x)"
   ]
  },
  {
   "cell_type": "code",
   "execution_count": 28,
   "metadata": {},
   "outputs": [],
   "source": [
    "def create_look_ahead_mask(size):\n",
    "    mask = 1 - tf.linalg.band_part(tf.ones((size, size)), -1, 0)\n",
    "    return mask  # (seq_len, seq_len)"
   ]
  },
  {
   "cell_type": "code",
   "execution_count": 29,
   "metadata": {},
   "outputs": [
    {
     "data": {
      "text/plain": [
       "<tf.Tensor: shape=(3, 3), dtype=float32, numpy=\n",
       "array([[0., 1., 1.],\n",
       "       [0., 0., 1.],\n",
       "       [0., 0., 0.]], dtype=float32)>"
      ]
     },
     "execution_count": 29,
     "metadata": {},
     "output_type": "execute_result"
    }
   ],
   "source": [
    "x = tf.random.uniform((1, 3))\n",
    "temp = create_look_ahead_mask(x.shape[1])\n",
    "temp"
   ]
  },
  {
   "cell_type": "code",
   "execution_count": 38,
   "metadata": {},
   "outputs": [],
   "source": [
    "def scaled_dot_product_attention(q, k, v, mask):\n",
    "    matmul_qk = tf.matmul(q, k, transpose_b=True)  # (..., seq_len_q, seq_len_k)\n",
    "  \n",
    "  # scale matmul_qk\n",
    "    dk = tf.cast(tf.shape(k)[-1], tf.float32)\n",
    "    scaled_attention_logits = matmul_qk / tf.math.sqrt(dk)\n",
    "\n",
    "  # add the mask to the scaled tensor.\n",
    "    if mask is not None:\n",
    "        scaled_attention_logits += (mask * -1e9)  \n",
    "\n",
    "  # softmax is normalized on the last axis (seq_len_k) so that the scores\n",
    "  # add up to 1.\n",
    "    attention_weights = tf.nn.softmax(scaled_attention_logits, axis=-1)  # (..., seq_len_q, seq_len_k)\n",
    "\n",
    "    output = tf.matmul(attention_weights, v)  # (..., seq_len_q, depth_v)\n",
    "\n",
    "    return output, attention_weights"
   ]
  },
  {
   "cell_type": "code",
   "execution_count": 39,
   "metadata": {},
   "outputs": [],
   "source": [
    "def print_out(q, k, v):\n",
    "  temp_out, temp_attn = scaled_dot_product_attention(\n",
    "      q, k, v, None)\n",
    "  print ('Attention weights are:')\n",
    "  print (temp_attn)\n",
    "  print ('Output is:')\n",
    "  print (temp_out)"
   ]
  },
  {
   "cell_type": "code",
   "execution_count": 40,
   "metadata": {},
   "outputs": [
    {
     "name": "stdout",
     "output_type": "stream",
     "text": [
      "Attention weights are:\n",
      "tf.Tensor([[0. 1. 0. 0.]], shape=(1, 4), dtype=float32)\n",
      "Output is:\n",
      "tf.Tensor([[10.  0.]], shape=(1, 2), dtype=float32)\n"
     ]
    }
   ],
   "source": [
    "np.set_printoptions(suppress=True)\n",
    "\n",
    "temp_k = tf.constant([[10,0,0],\n",
    "                      [0,10,0],\n",
    "                      [0,0,10],\n",
    "                      [0,0,10]], dtype=tf.float32)  # (4, 3)\n",
    "\n",
    "temp_v = tf.constant([[   1,0],\n",
    "                      [  10,0],\n",
    "                      [ 100,5],\n",
    "                      [1000,6]], dtype=tf.float32)  # (4, 2)\n",
    "\n",
    "\n",
    "temp_q = tf.constant([[0, 10, 0]], dtype=tf.float32)  # (1, 3)\n",
    "print_out(temp_q, temp_k, temp_v)"
   ]
  },
  {
   "cell_type": "code",
   "execution_count": 41,
   "metadata": {},
   "outputs": [
    {
     "name": "stdout",
     "output_type": "stream",
     "text": [
      "Attention weights are:\n",
      "tf.Tensor([[0.  0.  0.5 0.5]], shape=(1, 4), dtype=float32)\n",
      "Output is:\n",
      "tf.Tensor([[550.    5.5]], shape=(1, 2), dtype=float32)\n"
     ]
    }
   ],
   "source": [
    "# This query aligns with a repeated key (third and fourth), \n",
    "# so all associated values get averaged.\n",
    "temp_q = tf.constant([[0, 0, 10]], dtype=tf.float32)  # (1, 3)\n",
    "print_out(temp_q, temp_k, temp_v)"
   ]
  },
  {
   "cell_type": "code",
   "execution_count": 42,
   "metadata": {},
   "outputs": [
    {
     "name": "stdout",
     "output_type": "stream",
     "text": [
      "Attention weights are:\n",
      "tf.Tensor([[0.5 0.5 0.  0. ]], shape=(1, 4), dtype=float32)\n",
      "Output is:\n",
      "tf.Tensor([[5.5 0. ]], shape=(1, 2), dtype=float32)\n"
     ]
    }
   ],
   "source": [
    "# This query aligns equally with the first and second key, \n",
    "# so their values get averaged.\n",
    "temp_q = tf.constant([[10, 10, 0]], dtype=tf.float32)  # (1, 3)\n",
    "print_out(temp_q, temp_k, temp_v)"
   ]
  },
  {
   "cell_type": "code",
   "execution_count": 43,
   "metadata": {},
   "outputs": [
    {
     "name": "stdout",
     "output_type": "stream",
     "text": [
      "Attention weights are:\n",
      "tf.Tensor(\n",
      "[[0.  0.  0.5 0.5]\n",
      " [0.  1.  0.  0. ]\n",
      " [0.5 0.5 0.  0. ]], shape=(3, 4), dtype=float32)\n",
      "Output is:\n",
      "tf.Tensor(\n",
      "[[550.    5.5]\n",
      " [ 10.    0. ]\n",
      " [  5.5   0. ]], shape=(3, 2), dtype=float32)\n"
     ]
    }
   ],
   "source": [
    "temp_q = tf.constant([[0, 0, 10], [0, 10, 0], [10, 10, 0]], dtype=tf.float32)  # (3, 3)\n",
    "print_out(temp_q, temp_k, temp_v)"
   ]
  },
  {
   "cell_type": "code",
   "execution_count": 44,
   "metadata": {},
   "outputs": [],
   "source": [
    "class MultiHeadAttention(tf.keras.layers.Layer):\n",
    "    def __init__(self, d_model, num_heads):\n",
    "        super(MultiHeadAttention, self).__init__()\n",
    "        self.num_heads = num_heads\n",
    "        self.d_model = d_model\n",
    "    \n",
    "        assert d_model % self.num_heads == 0\n",
    "    \n",
    "        self.depth = d_model // self.num_heads\n",
    "    \n",
    "        self.wq = tf.keras.layers.Dense(d_model)\n",
    "        self.wk = tf.keras.layers.Dense(d_model)\n",
    "        self.wv = tf.keras.layers.Dense(d_model)\n",
    "    \n",
    "        self.dense = tf.keras.layers.Dense(d_model)\n",
    "        \n",
    "    def split_heads(self, x, batch_size):\n",
    "        x = tf.reshape(x, (batch_size, -1, self.num_heads, self.depth))\n",
    "        return tf.transpose(x, perm=[0, 2, 1, 3])\n",
    "    \n",
    "    def call(self, v, k, q, mask):\n",
    "        batch_size = tf.shape(q)[0]\n",
    "    \n",
    "        q = self.wq(q)  # (batch_size, seq_len, d_model)\n",
    "        k = self.wk(k)  # (batch_size, seq_len, d_model)\n",
    "        v = self.wv(v)  # (batch_size, seq_len, d_model)\n",
    "    \n",
    "        q = self.split_heads(q, batch_size)  # (batch_size, num_heads, seq_len_q, depth)\n",
    "        k = self.split_heads(k, batch_size)  # (batch_size, num_heads, seq_len_k, depth)\n",
    "        v = self.split_heads(v, batch_size)  # (batch_size, num_heads, seq_len_v, depth)\n",
    "    \n",
    "    # scaled_attention.shape == (batch_size, num_heads, seq_len_q, depth)\n",
    "    # attention_weights.shape == (batch_size, num_heads, seq_len_q, seq_len_k)\n",
    "        scaled_attention, attention_weights = scaled_dot_product_attention(q, k, v, mask)\n",
    "    \n",
    "        scaled_attention = tf.transpose(scaled_attention, perm=[0, 2, 1, 3])  # (batch_size, seq_len_q, num_heads, depth)\n",
    "\n",
    "        concat_attention = tf.reshape(scaled_attention, \n",
    "                                  (batch_size, -1, self.d_model))  # (batch_size, seq_len_q, d_model)\n",
    "\n",
    "        output = self.dense(concat_attention)  # (batch_size, seq_len_q, d_model)\n",
    "        \n",
    "        return output, attention_weights"
   ]
  },
  {
   "cell_type": "code",
   "execution_count": 45,
   "metadata": {},
   "outputs": [
    {
     "data": {
      "text/plain": [
       "(TensorShape([1, 60, 512]), TensorShape([1, 8, 60, 60]))"
      ]
     },
     "execution_count": 45,
     "metadata": {},
     "output_type": "execute_result"
    }
   ],
   "source": [
    "temp_mha = MultiHeadAttention(d_model=512, num_heads=8)\n",
    "y = tf.random.uniform((1, 60, 512))  # (batch_size, encoder_sequence, d_model)\n",
    "out, attn = temp_mha(y, k=y, q=y, mask=None)\n",
    "out.shape, attn.shape"
   ]
  },
  {
   "cell_type": "code",
   "execution_count": 46,
   "metadata": {},
   "outputs": [],
   "source": [
    "def point_wise_feed_forward_network(d_model, dff):\n",
    "  return tf.keras.Sequential([\n",
    "      tf.keras.layers.Dense(dff, activation='relu'),  # (batch_size, seq_len, dff)\n",
    "      tf.keras.layers.Dense(d_model)  # (batch_size, seq_len, d_model)\n",
    "  ])"
   ]
  },
  {
   "cell_type": "code",
   "execution_count": 47,
   "metadata": {},
   "outputs": [
    {
     "data": {
      "text/plain": [
       "TensorShape([64, 50, 512])"
      ]
     },
     "execution_count": 47,
     "metadata": {},
     "output_type": "execute_result"
    }
   ],
   "source": [
    "sample_ffn = point_wise_feed_forward_network(512, 2048)\n",
    "sample_ffn(tf.random.uniform((64, 50, 512))).shape"
   ]
  },
  {
   "cell_type": "code",
   "execution_count": 48,
   "metadata": {},
   "outputs": [],
   "source": [
    "class EncoderLayer(tf.keras.layers.Layer):\n",
    "  def __init__(self, d_model, num_heads, dff, rate=0.1):\n",
    "    super(EncoderLayer, self).__init__()\n",
    "\n",
    "    self.mha = MultiHeadAttention(d_model, num_heads)\n",
    "    self.ffn = point_wise_feed_forward_network(d_model, dff)\n",
    "\n",
    "    self.layernorm1 = tf.keras.layers.LayerNormalization(epsilon=1e-6)\n",
    "    self.layernorm2 = tf.keras.layers.LayerNormalization(epsilon=1e-6)\n",
    "    \n",
    "    self.dropout1 = tf.keras.layers.Dropout(rate)\n",
    "    self.dropout2 = tf.keras.layers.Dropout(rate)\n",
    "    \n",
    "  def call(self, x, training, mask):\n",
    "\n",
    "    attn_output, _ = self.mha(x, x, x, mask)  # (batch_size, input_seq_len, d_model)\n",
    "    attn_output = self.dropout1(attn_output, training=training)\n",
    "    out1 = self.layernorm1(x + attn_output)  # (batch_size, input_seq_len, d_model)\n",
    "    \n",
    "    ffn_output = self.ffn(out1)  # (batch_size, input_seq_len, d_model)\n",
    "    ffn_output = self.dropout2(ffn_output, training=training)\n",
    "    out2 = self.layernorm2(out1 + ffn_output)  # (batch_size, input_seq_len, d_model)\n",
    "    \n",
    "    return out2"
   ]
  },
  {
   "cell_type": "code",
   "execution_count": 49,
   "metadata": {},
   "outputs": [
    {
     "data": {
      "text/plain": [
       "TensorShape([64, 43, 512])"
      ]
     },
     "execution_count": 49,
     "metadata": {},
     "output_type": "execute_result"
    }
   ],
   "source": [
    "sample_encoder_layer = EncoderLayer(512, 8, 2048)\n",
    "\n",
    "sample_encoder_layer_output = sample_encoder_layer(\n",
    "    tf.random.uniform((64, 43, 512)), False, None)\n",
    "\n",
    "sample_encoder_layer_output.shape  # (batch_size, input_seq_len, d_model)"
   ]
  },
  {
   "cell_type": "code",
   "execution_count": 50,
   "metadata": {},
   "outputs": [],
   "source": [
    "class DecoderLayer(tf.keras.layers.Layer):\n",
    "  def __init__(self, d_model, num_heads, dff, rate=0.1):\n",
    "    super(DecoderLayer, self).__init__()\n",
    "\n",
    "    self.mha1 = MultiHeadAttention(d_model, num_heads)\n",
    "    self.mha2 = MultiHeadAttention(d_model, num_heads)\n",
    "\n",
    "    self.ffn = point_wise_feed_forward_network(d_model, dff)\n",
    " \n",
    "    self.layernorm1 = tf.keras.layers.LayerNormalization(epsilon=1e-6)\n",
    "    self.layernorm2 = tf.keras.layers.LayerNormalization(epsilon=1e-6)\n",
    "    self.layernorm3 = tf.keras.layers.LayerNormalization(epsilon=1e-6)\n",
    "    \n",
    "    self.dropout1 = tf.keras.layers.Dropout(rate)\n",
    "    self.dropout2 = tf.keras.layers.Dropout(rate)\n",
    "    self.dropout3 = tf.keras.layers.Dropout(rate)\n",
    "    \n",
    "    \n",
    "  def call(self, x, enc_output, training, \n",
    "           look_ahead_mask, padding_mask):\n",
    "    # enc_output.shape == (batch_size, input_seq_len, d_model)\n",
    "\n",
    "    attn1, attn_weights_block1 = self.mha1(x, x, x, look_ahead_mask)  # (batch_size, target_seq_len, d_model)\n",
    "    attn1 = self.dropout1(attn1, training=training)\n",
    "    out1 = self.layernorm1(attn1 + x)\n",
    "    \n",
    "    attn2, attn_weights_block2 = self.mha2(\n",
    "        enc_output, enc_output, out1, padding_mask)  # (batch_size, target_seq_len, d_model)\n",
    "    attn2 = self.dropout2(attn2, training=training)\n",
    "    out2 = self.layernorm2(attn2 + out1)  # (batch_size, target_seq_len, d_model)\n",
    "    \n",
    "    ffn_output = self.ffn(out2)  # (batch_size, target_seq_len, d_model)\n",
    "    ffn_output = self.dropout3(ffn_output, training=training)\n",
    "    out3 = self.layernorm3(ffn_output + out2)  # (batch_size, target_seq_len, d_model)\n",
    "    \n",
    "    return out3, attn_weights_block1, attn_weights_block2"
   ]
  },
  {
   "cell_type": "code",
   "execution_count": 51,
   "metadata": {},
   "outputs": [
    {
     "data": {
      "text/plain": [
       "TensorShape([64, 50, 512])"
      ]
     },
     "execution_count": 51,
     "metadata": {},
     "output_type": "execute_result"
    }
   ],
   "source": [
    "sample_decoder_layer = DecoderLayer(512, 8, 2048)\n",
    "\n",
    "sample_decoder_layer_output, _, _ = sample_decoder_layer(\n",
    "    tf.random.uniform((64, 50, 512)), sample_encoder_layer_output, \n",
    "    False, None, None)\n",
    "\n",
    "sample_decoder_layer_output.shape  # (batch_size, target_seq_len, d_model)"
   ]
  },
  {
   "cell_type": "code",
   "execution_count": 52,
   "metadata": {},
   "outputs": [],
   "source": [
    "class Encoder(tf.keras.layers.Layer):\n",
    "  def __init__(self, num_layers, d_model, num_heads, dff, input_vocab_size,\n",
    "               maximum_position_encoding, rate=0.1):\n",
    "    super(Encoder, self).__init__()\n",
    "\n",
    "    self.d_model = d_model\n",
    "    self.num_layers = num_layers\n",
    "    \n",
    "    self.embedding = tf.keras.layers.Embedding(input_vocab_size, d_model)\n",
    "    self.pos_encoding = positional_encoding(maximum_position_encoding, \n",
    "                                            self.d_model)\n",
    "    \n",
    "    \n",
    "    self.enc_layers = [EncoderLayer(d_model, num_heads, dff, rate) \n",
    "                       for _ in range(num_layers)]\n",
    "  \n",
    "    self.dropout = tf.keras.layers.Dropout(rate)\n",
    "        \n",
    "  def call(self, x, training, mask):\n",
    "\n",
    "    seq_len = tf.shape(x)[1]\n",
    "    \n",
    "    # adding embedding and position encoding.\n",
    "    x = self.embedding(x)  # (batch_size, input_seq_len, d_model)\n",
    "    x *= tf.math.sqrt(tf.cast(self.d_model, tf.float32))\n",
    "    x += self.pos_encoding[:, :seq_len, :]\n",
    "\n",
    "    x = self.dropout(x, training=training)\n",
    "    \n",
    "    for i in range(self.num_layers):\n",
    "      x = self.enc_layers[i](x, training, mask)\n",
    "    \n",
    "    return x  # (batch_size, input_seq_len, d_model)"
   ]
  },
  {
   "cell_type": "code",
   "execution_count": 53,
   "metadata": {},
   "outputs": [
    {
     "name": "stdout",
     "output_type": "stream",
     "text": [
      "(64, 62, 512)\n"
     ]
    }
   ],
   "source": [
    "sample_encoder = Encoder(num_layers=2, d_model=512, num_heads=8, \n",
    "                         dff=2048, input_vocab_size=8500,\n",
    "                         maximum_position_encoding=10000)\n",
    "temp_input = tf.random.uniform((64, 62), dtype=tf.int64, minval=0, maxval=200)\n",
    "\n",
    "sample_encoder_output = sample_encoder(temp_input, training=False, mask=None)\n",
    "\n",
    "print (sample_encoder_output.shape)  # (batch_size, input_seq_len, d_model)"
   ]
  },
  {
   "cell_type": "code",
   "execution_count": 54,
   "metadata": {},
   "outputs": [],
   "source": [
    "class Decoder(tf.keras.layers.Layer):\n",
    "  def __init__(self, num_layers, d_model, num_heads, dff, target_vocab_size,\n",
    "               maximum_position_encoding, rate=0.1):\n",
    "    super(Decoder, self).__init__()\n",
    "\n",
    "    self.d_model = d_model\n",
    "    self.num_layers = num_layers\n",
    "    \n",
    "    self.embedding = tf.keras.layers.Embedding(target_vocab_size, d_model)\n",
    "    self.pos_encoding = positional_encoding(maximum_position_encoding, d_model)\n",
    "    \n",
    "    self.dec_layers = [DecoderLayer(d_model, num_heads, dff, rate) \n",
    "                       for _ in range(num_layers)]\n",
    "    self.dropout = tf.keras.layers.Dropout(rate)\n",
    "    \n",
    "  def call(self, x, enc_output, training, \n",
    "           look_ahead_mask, padding_mask):\n",
    "\n",
    "    seq_len = tf.shape(x)[1]\n",
    "    attention_weights = {}\n",
    "    \n",
    "    x = self.embedding(x)  # (batch_size, target_seq_len, d_model)\n",
    "    x *= tf.math.sqrt(tf.cast(self.d_model, tf.float32))\n",
    "    x += self.pos_encoding[:, :seq_len, :]\n",
    "    \n",
    "    x = self.dropout(x, training=training)\n",
    "\n",
    "    for i in range(self.num_layers):\n",
    "      x, block1, block2 = self.dec_layers[i](x, enc_output, training,\n",
    "                                             look_ahead_mask, padding_mask)\n",
    "      \n",
    "      attention_weights['decoder_layer{}_block1'.format(i+1)] = block1\n",
    "      attention_weights['decoder_layer{}_block2'.format(i+1)] = block2\n",
    "    \n",
    "    # x.shape == (batch_size, target_seq_len, d_model)\n",
    "    return x, attention_weights"
   ]
  },
  {
   "cell_type": "code",
   "execution_count": 55,
   "metadata": {},
   "outputs": [
    {
     "data": {
      "text/plain": [
       "(TensorShape([64, 26, 512]), TensorShape([64, 8, 26, 62]))"
      ]
     },
     "execution_count": 55,
     "metadata": {},
     "output_type": "execute_result"
    }
   ],
   "source": [
    "sample_decoder = Decoder(num_layers=2, d_model=512, num_heads=8, \n",
    "                         dff=2048, target_vocab_size=8000,\n",
    "                         maximum_position_encoding=5000)\n",
    "temp_input = tf.random.uniform((64, 26), dtype=tf.int64, minval=0, maxval=200)\n",
    "\n",
    "output, attn = sample_decoder(temp_input, \n",
    "                              enc_output=sample_encoder_output, \n",
    "                              training=False,\n",
    "                              look_ahead_mask=None, \n",
    "                              padding_mask=None)\n",
    "\n",
    "output.shape, attn['decoder_layer2_block2'].shape"
   ]
  },
  {
   "cell_type": "code",
   "execution_count": 56,
   "metadata": {},
   "outputs": [],
   "source": [
    "class Transformer(tf.keras.Model):\n",
    "  def __init__(self, num_layers, d_model, num_heads, dff, input_vocab_size, \n",
    "               target_vocab_size, pe_input, pe_target, rate=0.1):\n",
    "    super(Transformer, self).__init__()\n",
    "\n",
    "    self.encoder = Encoder(num_layers, d_model, num_heads, dff, \n",
    "                           input_vocab_size, pe_input, rate)\n",
    "\n",
    "    self.decoder = Decoder(num_layers, d_model, num_heads, dff, \n",
    "                           target_vocab_size, pe_target, rate)\n",
    "\n",
    "    self.final_layer = tf.keras.layers.Dense(target_vocab_size)\n",
    "    \n",
    "  def call(self, inp, tar, training, enc_padding_mask, \n",
    "           look_ahead_mask, dec_padding_mask):\n",
    "\n",
    "    enc_output = self.encoder(inp, training, enc_padding_mask)  # (batch_size, inp_seq_len, d_model)\n",
    "    \n",
    "    # dec_output.shape == (batch_size, tar_seq_len, d_model)\n",
    "    dec_output, attention_weights = self.decoder(\n",
    "        tar, enc_output, training, look_ahead_mask, dec_padding_mask)\n",
    "    \n",
    "    final_output = self.final_layer(dec_output)  # (batch_size, tar_seq_len, target_vocab_size)\n",
    "    \n",
    "    return final_output, attention_weights"
   ]
  },
  {
   "cell_type": "code",
   "execution_count": 57,
   "metadata": {},
   "outputs": [
    {
     "data": {
      "text/plain": [
       "TensorShape([64, 36, 8000])"
      ]
     },
     "execution_count": 57,
     "metadata": {},
     "output_type": "execute_result"
    }
   ],
   "source": [
    "sample_transformer = Transformer(\n",
    "    num_layers=2, d_model=512, num_heads=8, dff=2048, \n",
    "    input_vocab_size=8500, target_vocab_size=8000, \n",
    "    pe_input=10000, pe_target=6000)\n",
    "\n",
    "temp_input = tf.random.uniform((64, 38), dtype=tf.int64, minval=0, maxval=200)\n",
    "temp_target = tf.random.uniform((64, 36), dtype=tf.int64, minval=0, maxval=200)\n",
    "\n",
    "fn_out, _ = sample_transformer(temp_input, temp_target, training=False, \n",
    "                               enc_padding_mask=None, \n",
    "                               look_ahead_mask=None,\n",
    "                               dec_padding_mask=None)\n",
    "\n",
    "fn_out.shape  # (batch_size, tar_seq_len, target_vocab_size)"
   ]
  },
  {
   "cell_type": "code",
   "execution_count": 58,
   "metadata": {},
   "outputs": [],
   "source": [
    "num_layers = 4\n",
    "d_model = 128\n",
    "dff = 512\n",
    "num_heads = 8\n",
    "\n",
    "input_vocab_size = tokenizer_pt.vocab_size + 2\n",
    "target_vocab_size = tokenizer_en.vocab_size + 2\n",
    "dropout_rate = 0.1"
   ]
  },
  {
   "cell_type": "code",
   "execution_count": 59,
   "metadata": {},
   "outputs": [],
   "source": [
    "class CustomSchedule(tf.keras.optimizers.schedules.LearningRateSchedule):\n",
    "  def __init__(self, d_model, warmup_steps=4000):\n",
    "    super(CustomSchedule, self).__init__()\n",
    "    \n",
    "    self.d_model = d_model\n",
    "    self.d_model = tf.cast(self.d_model, tf.float32)\n",
    "\n",
    "    self.warmup_steps = warmup_steps\n",
    "    \n",
    "  def __call__(self, step):\n",
    "    arg1 = tf.math.rsqrt(step)\n",
    "    arg2 = step * (self.warmup_steps ** -1.5)\n",
    "    \n",
    "    return tf.math.rsqrt(self.d_model) * tf.math.minimum(arg1, arg2)"
   ]
  },
  {
   "cell_type": "code",
   "execution_count": 60,
   "metadata": {},
   "outputs": [],
   "source": [
    "learning_rate = CustomSchedule(d_model)\n",
    "\n",
    "optimizer = tf.keras.optimizers.Adam(learning_rate, beta_1=0.9, beta_2=0.98, \n",
    "                                     epsilon=1e-9)"
   ]
  },
  {
   "cell_type": "code",
   "execution_count": 61,
   "metadata": {},
   "outputs": [
    {
     "data": {
      "text/plain": [
       "Text(0.5, 0, 'Train Step')"
      ]
     },
     "execution_count": 61,
     "metadata": {},
     "output_type": "execute_result"
    },
    {
     "data": {
      "image/png": "[encoded data removed]",
      "text/plain": [
       "<Figure size 432x288 with 1 Axes>"
      ]
     },
     "metadata": {
      "needs_background": "light"
     },
     "output_type": "display_data"
    }
   ],
   "source": [
    "temp_learning_rate_schedule = CustomSchedule(d_model)\n",
    "\n",
    "plt.plot(temp_learning_rate_schedule(tf.range(40000, dtype=tf.float32)))\n",
    "plt.ylabel(\"Learning Rate\")\n",
    "plt.xlabel(\"Train Step\")"
   ]
  },
  {
   "cell_type": "code",
   "execution_count": 62,
   "metadata": {},
   "outputs": [],
   "source": [
    "loss_object = tf.keras.losses.SparseCategoricalCrossentropy(\n",
    "    from_logits=True, reduction='none')"
   ]
  },
  {
   "cell_type": "code",
   "execution_count": 63,
   "metadata": {},
   "outputs": [],
   "source": [
    "def loss_function(real, pred):\n",
    "  mask = tf.math.logical_not(tf.math.equal(real, 0))\n",
    "  loss_ = loss_object(real, pred)\n",
    "\n",
    "  mask = tf.cast(mask, dtype=loss_.dtype)\n",
    "  loss_ *= mask\n",
    "  \n",
    "  return tf.reduce_sum(loss_)/tf.reduce_sum(mask)"
   ]
  },
  {
   "cell_type": "code",
   "execution_count": 64,
   "metadata": {},
   "outputs": [],
   "source": [
    "train_loss = tf.keras.metrics.Mean(name='train_loss')\n",
    "train_accuracy = tf.keras.metrics.SparseCategoricalAccuracy(\n",
    "    name='train_accuracy')"
   ]
  },
  {
   "cell_type": "code",
   "execution_count": 65,
   "metadata": {},
   "outputs": [],
   "source": [
    "transformer = Transformer(num_layers, d_model, num_heads, dff,\n",
    "                          input_vocab_size, target_vocab_size, \n",
    "                          pe_input=input_vocab_size, \n",
    "                          pe_target=target_vocab_size,\n",
    "                          rate=dropout_rate)"
   ]
  },
  {
   "cell_type": "code",
   "execution_count": 66,
   "metadata": {},
   "outputs": [],
   "source": [
    "def create_masks(inp, tar):\n",
    "  # Encoder padding mask\n",
    "  enc_padding_mask = create_padding_mask(inp)\n",
    "  \n",
    "  # Used in the 2nd attention block in the decoder.\n",
    "  # This padding mask is used to mask the encoder outputs.\n",
    "  dec_padding_mask = create_padding_mask(inp)\n",
    "  \n",
    "  # Used in the 1st attention block in the decoder.\n",
    "  # It is used to pad and mask future tokens in the input received by \n",
    "  # the decoder.\n",
    "  look_ahead_mask = create_look_ahead_mask(tf.shape(tar)[1])\n",
    "  dec_target_padding_mask = create_padding_mask(tar)\n",
    "  combined_mask = tf.maximum(dec_target_padding_mask, look_ahead_mask)\n",
    "  \n",
    "  return enc_padding_mask, combined_mask, dec_padding_mask"
   ]
  },
  {
   "cell_type": "code",
   "execution_count": 67,
   "metadata": {},
   "outputs": [],
   "source": [
    "checkpoint_path = \"./checkpoints/train\"\n",
    "\n",
    "ckpt = tf.train.Checkpoint(transformer=transformer,\n",
    "                           optimizer=optimizer)\n",
    "\n",
    "ckpt_manager = tf.train.CheckpointManager(ckpt, checkpoint_path, max_to_keep=5)\n",
    "\n",
    "# if a checkpoint exists, restore the latest checkpoint.\n",
    "if ckpt_manager.latest_checkpoint:\n",
    "  ckpt.restore(ckpt_manager.latest_checkpoint)\n",
    "  print ('Latest checkpoint restored!!')"
   ]
  },
  {
   "cell_type": "code",
   "execution_count": 68,
   "metadata": {},
   "outputs": [],
   "source": [
    "EPOCHS = 20"
   ]
  },
  {
   "cell_type": "code",
   "execution_count": 69,
   "metadata": {},
   "outputs": [],
   "source": [
    "# The @tf.function trace-compiles train_step into a TF graph for faster\n",
    "# execution. The function specializes to the precise shape of the argument\n",
    "# tensors. To avoid re-tracing due to the variable sequence lengths or variable\n",
    "# batch sizes (the last batch is smaller), use input_signature to specify\n",
    "# more generic shapes.\n",
    "\n",
    "train_step_signature = [\n",
    "    tf.TensorSpec(shape=(None, None), dtype=tf.int64),\n",
    "    tf.TensorSpec(shape=(None, None), dtype=tf.int64),\n",
    "]\n",
    "\n",
    "@tf.function(input_signature=train_step_signature)\n",
    "def train_step(inp, tar):\n",
    "  tar_inp = tar[:, :-1]\n",
    "  tar_real = tar[:, 1:]\n",
    "  \n",
    "  enc_padding_mask, combined_mask, dec_padding_mask = create_masks(inp, tar_inp)\n",
    "  \n",
    "  with tf.GradientTape() as tape:\n",
    "    predictions, _ = transformer(inp, tar_inp, \n",
    "                                 True, \n",
    "                                 enc_padding_mask, \n",
    "                                 combined_mask, \n",
    "                                 dec_padding_mask)\n",
    "    loss = loss_function(tar_real, predictions)\n",
    "\n",
    "  gradients = tape.gradient(loss, transformer.trainable_variables)    \n",
    "  optimizer.apply_gradients(zip(gradients, transformer.trainable_variables))\n",
    "  \n",
    "  train_loss(loss)\n",
    "  train_accuracy(tar_real, predictions)"
   ]
  },
  {
   "cell_type": "code",
   "execution_count": 70,
   "metadata": {},
   "outputs": [
    {
     "name": "stdout",
     "output_type": "stream",
     "text": [
      "Epoch 1 Batch 0 Loss 9.0102 Accuracy 0.0000\n",
      "Epoch 1 Batch 50 Loss 8.9584 Accuracy 0.0007\n",
      "Epoch 1 Batch 100 Loss 8.8633 Accuracy 0.0115\n",
      "Epoch 1 Batch 150 Loss 8.7593 Accuracy 0.0156\n",
      "Epoch 1 Batch 200 Loss 8.6353 Accuracy 0.0177\n",
      "Epoch 1 Batch 250 Loss 8.4852 Accuracy 0.0198\n",
      "Epoch 1 Batch 300 Loss 8.3118 Accuracy 0.0239\n",
      "Epoch 1 Batch 350 Loss 8.1256 Accuracy 0.0275\n",
      "Epoch 1 Batch 400 Loss 7.9440 Accuracy 0.0303\n",
      "Epoch 1 Batch 450 Loss 7.7790 Accuracy 0.0330\n",
      "Epoch 1 Batch 500 Loss 7.6314 Accuracy 0.0365\n",
      "Epoch 1 Batch 550 Loss 7.4941 Accuracy 0.0404\n",
      "Epoch 1 Batch 600 Loss 7.3640 Accuracy 0.0443\n",
      "Epoch 1 Batch 650 Loss 7.2402 Accuracy 0.0480\n",
      "Epoch 1 Batch 700 Loss 7.1227 Accuracy 0.0517\n",
      "Epoch 1 Loss 7.1182 Accuracy 0.0518\n",
      "Time taken for 1 epoch: 91.55825591087341 secs\n",
      "\n",
      "Epoch 2 Batch 0 Loss 5.5336 Accuracy 0.1022\n",
      "Epoch 2 Batch 50 Loss 5.4531 Accuracy 0.1034\n",
      "Epoch 2 Batch 100 Loss 5.3877 Accuracy 0.1064\n",
      "Epoch 2 Batch 150 Loss 5.3443 Accuracy 0.1084\n",
      "Epoch 2 Batch 200 Loss 5.2990 Accuracy 0.1103\n",
      "Epoch 2 Batch 250 Loss 5.2596 Accuracy 0.1121\n",
      "Epoch 2 Batch 300 Loss 5.2195 Accuracy 0.1138\n",
      "Epoch 2 Batch 350 Loss 5.1863 Accuracy 0.1154\n",
      "Epoch 2 Batch 400 Loss 5.1558 Accuracy 0.1168\n",
      "Epoch 2 Batch 450 Loss 5.1258 Accuracy 0.1182\n",
      "Epoch 2 Batch 500 Loss 5.1019 Accuracy 0.1195\n",
      "Epoch 2 Batch 550 Loss 5.0740 Accuracy 0.1209\n",
      "Epoch 2 Batch 600 Loss 5.0461 Accuracy 0.1223\n",
      "Epoch 2 Batch 650 Loss 5.0229 Accuracy 0.1235\n",
      "Epoch 2 Batch 700 Loss 4.9979 Accuracy 0.1245\n",
      "Epoch 2 Loss 4.9976 Accuracy 0.1246\n",
      "Time taken for 1 epoch: 64.67285704612732 secs\n",
      "\n",
      "Epoch 3 Batch 0 Loss 4.6348 Accuracy 0.1423\n",
      "Epoch 3 Batch 50 Loss 4.6128 Accuracy 0.1417\n",
      "Epoch 3 Batch 100 Loss 4.5946 Accuracy 0.1434\n",
      "Epoch 3 Batch 150 Loss 4.5896 Accuracy 0.1442\n",
      "Epoch 3 Batch 200 Loss 4.5752 Accuracy 0.1447\n",
      "Epoch 3 Batch 250 Loss 4.5582 Accuracy 0.1456\n",
      "Epoch 3 Batch 300 Loss 4.5464 Accuracy 0.1464\n",
      "Epoch 3 Batch 350 Loss 4.5382 Accuracy 0.1469\n",
      "Epoch 3 Batch 400 Loss 4.5262 Accuracy 0.1473\n",
      "Epoch 3 Batch 450 Loss 4.5130 Accuracy 0.1480\n",
      "Epoch 3 Batch 500 Loss 4.4992 Accuracy 0.1484\n",
      "Epoch 3 Batch 550 Loss 4.4869 Accuracy 0.1490\n",
      "Epoch 3 Batch 600 Loss 4.4732 Accuracy 0.1497\n",
      "Epoch 3 Batch 650 Loss 4.4608 Accuracy 0.1505\n",
      "Epoch 3 Batch 700 Loss 4.4469 Accuracy 0.1512\n",
      "Epoch 3 Loss 4.4464 Accuracy 0.1513\n",
      "Time taken for 1 epoch: 64.88383102416992 secs\n",
      "\n",
      "Epoch 4 Batch 0 Loss 4.3010 Accuracy 0.1534\n",
      "Epoch 4 Batch 50 Loss 4.1562 Accuracy 0.1641\n",
      "Epoch 4 Batch 100 Loss 4.1531 Accuracy 0.1652\n",
      "Epoch 4 Batch 150 Loss 4.1427 Accuracy 0.1663\n",
      "Epoch 4 Batch 200 Loss 4.1249 Accuracy 0.1671\n",
      "Epoch 4 Batch 250 Loss 4.1030 Accuracy 0.1677\n",
      "Epoch 4 Batch 300 Loss 4.0922 Accuracy 0.1684\n",
      "Epoch 4 Batch 350 Loss 4.0758 Accuracy 0.1695\n",
      "Epoch 4 Batch 400 Loss 4.0590 Accuracy 0.1707\n",
      "Epoch 4 Batch 450 Loss 4.0444 Accuracy 0.1721\n",
      "Epoch 4 Batch 500 Loss 4.0298 Accuracy 0.1732\n",
      "Epoch 4 Batch 550 Loss 4.0145 Accuracy 0.1743\n",
      "Epoch 4 Batch 600 Loss 4.0021 Accuracy 0.1752\n",
      "Epoch 4 Batch 650 Loss 3.9857 Accuracy 0.1763\n",
      "Epoch 4 Batch 700 Loss 3.9710 Accuracy 0.1773\n",
      "Epoch 4 Loss 3.9704 Accuracy 0.1773\n",
      "Time taken for 1 epoch: 66.16056394577026 secs\n",
      "\n",
      "Epoch 5 Batch 0 Loss 3.5051 Accuracy 0.1903\n",
      "Epoch 5 Batch 50 Loss 3.6051 Accuracy 0.1968\n",
      "Epoch 5 Batch 100 Loss 3.6036 Accuracy 0.1976\n",
      "Epoch 5 Batch 150 Loss 3.5977 Accuracy 0.1978\n",
      "Epoch 5 Batch 200 Loss 3.5901 Accuracy 0.1982\n",
      "Epoch 5 Batch 250 Loss 3.5922 Accuracy 0.1979\n",
      "Epoch 5 Batch 300 Loss 3.5829 Accuracy 0.1987\n",
      "Epoch 5 Batch 350 Loss 3.5680 Accuracy 0.1998\n",
      "Epoch 5 Batch 400 Loss 3.5607 Accuracy 0.2006\n",
      "Epoch 5 Batch 450 Loss 3.5535 Accuracy 0.2012\n",
      "Epoch 5 Batch 500 Loss 3.5447 Accuracy 0.2020\n",
      "Epoch 5 Batch 550 Loss 3.5361 Accuracy 0.2024\n",
      "Epoch 5 Batch 600 Loss 3.5226 Accuracy 0.2034\n",
      "Epoch 5 Batch 650 Loss 3.5143 Accuracy 0.2038\n",
      "Epoch 5 Batch 700 Loss 3.5040 Accuracy 0.2045\n",
      "Saving checkpoint for epoch 5 at ./checkpoints/train\\ckpt-1\n",
      "Epoch 5 Loss 3.5039 Accuracy 0.2045\n",
      "Time taken for 1 epoch: 67.20058178901672 secs\n",
      "\n",
      "Epoch 6 Batch 0 Loss 3.2803 Accuracy 0.2065\n",
      "Epoch 6 Batch 50 Loss 3.2202 Accuracy 0.2178\n",
      "Epoch 6 Batch 100 Loss 3.1917 Accuracy 0.2197\n",
      "Epoch 6 Batch 150 Loss 3.1944 Accuracy 0.2194\n",
      "Epoch 6 Batch 200 Loss 3.1792 Accuracy 0.2195\n",
      "Epoch 6 Batch 250 Loss 3.1738 Accuracy 0.2196\n",
      "Epoch 6 Batch 300 Loss 3.1658 Accuracy 0.2202\n",
      "Epoch 6 Batch 350 Loss 3.1614 Accuracy 0.2208\n",
      "Epoch 6 Batch 400 Loss 3.1577 Accuracy 0.2216\n",
      "Epoch 6 Batch 450 Loss 3.1512 Accuracy 0.2221\n",
      "Epoch 6 Batch 500 Loss 3.1453 Accuracy 0.2227\n",
      "Epoch 6 Batch 550 Loss 3.1392 Accuracy 0.2231\n",
      "Epoch 6 Batch 600 Loss 3.1340 Accuracy 0.2236\n",
      "Epoch 6 Batch 650 Loss 3.1297 Accuracy 0.2238\n",
      "Epoch 6 Batch 700 Loss 3.1239 Accuracy 0.2242\n",
      "Epoch 6 Loss 3.1234 Accuracy 0.2242\n",
      "Time taken for 1 epoch: 66.02035427093506 secs\n",
      "\n",
      "Epoch 7 Batch 0 Loss 2.8134 Accuracy 0.2480\n",
      "Epoch 7 Batch 50 Loss 2.8206 Accuracy 0.2389\n",
      "Epoch 7 Batch 100 Loss 2.7871 Accuracy 0.2393\n",
      "Epoch 7 Batch 150 Loss 2.7954 Accuracy 0.2389\n",
      "Epoch 7 Batch 200 Loss 2.7911 Accuracy 0.2398\n",
      "Epoch 7 Batch 250 Loss 2.7829 Accuracy 0.2406\n",
      "Epoch 7 Batch 300 Loss 2.7810 Accuracy 0.2417\n",
      "Epoch 7 Batch 350 Loss 2.7736 Accuracy 0.2425\n",
      "Epoch 7 Batch 400 Loss 2.7690 Accuracy 0.2430\n",
      "Epoch 7 Batch 450 Loss 2.7629 Accuracy 0.2435\n",
      "Epoch 7 Batch 500 Loss 2.7573 Accuracy 0.2438\n",
      "Epoch 7 Batch 550 Loss 2.7508 Accuracy 0.2443\n",
      "Epoch 7 Batch 600 Loss 2.7443 Accuracy 0.2451\n",
      "Epoch 7 Batch 650 Loss 2.7409 Accuracy 0.2455\n",
      "Epoch 7 Batch 700 Loss 2.7374 Accuracy 0.2456\n",
      "Epoch 7 Loss 2.7370 Accuracy 0.2456\n",
      "Time taken for 1 epoch: 66.59716892242432 secs\n",
      "\n",
      "Epoch 8 Batch 0 Loss 2.4890 Accuracy 0.2360\n",
      "Epoch 8 Batch 50 Loss 2.4061 Accuracy 0.2602\n",
      "Epoch 8 Batch 100 Loss 2.4342 Accuracy 0.2607\n",
      "Epoch 8 Batch 150 Loss 2.4349 Accuracy 0.2613\n",
      "Epoch 8 Batch 200 Loss 2.4367 Accuracy 0.2625\n",
      "Epoch 8 Batch 250 Loss 2.4316 Accuracy 0.2630\n",
      "Epoch 8 Batch 300 Loss 2.4211 Accuracy 0.2630\n",
      "Epoch 8 Batch 350 Loss 2.4172 Accuracy 0.2634\n",
      "Epoch 8 Batch 400 Loss 2.4135 Accuracy 0.2637\n",
      "Epoch 8 Batch 450 Loss 2.4133 Accuracy 0.2639\n",
      "Epoch 8 Batch 500 Loss 2.4116 Accuracy 0.2639\n",
      "Epoch 8 Batch 550 Loss 2.4086 Accuracy 0.2640\n",
      "Epoch 8 Batch 600 Loss 2.4066 Accuracy 0.2645\n",
      "Epoch 8 Batch 650 Loss 2.4069 Accuracy 0.2644\n",
      "Epoch 8 Batch 700 Loss 2.4063 Accuracy 0.2644\n",
      "Epoch 8 Loss 2.4063 Accuracy 0.2644\n",
      "Time taken for 1 epoch: 67.11744594573975 secs\n",
      "\n",
      "Epoch 9 Batch 0 Loss 2.0571 Accuracy 0.2998\n",
      "Epoch 9 Batch 50 Loss 2.1433 Accuracy 0.2791\n",
      "Epoch 9 Batch 100 Loss 2.1278 Accuracy 0.2791\n",
      "Epoch 9 Batch 150 Loss 2.1384 Accuracy 0.2787\n",
      "Epoch 9 Batch 200 Loss 2.1453 Accuracy 0.2783\n",
      "Epoch 9 Batch 250 Loss 2.1481 Accuracy 0.2780\n",
      "Epoch 9 Batch 300 Loss 2.1512 Accuracy 0.2783\n",
      "Epoch 9 Batch 350 Loss 2.1523 Accuracy 0.2784\n",
      "Epoch 9 Batch 400 Loss 2.1554 Accuracy 0.2784\n",
      "Epoch 9 Batch 450 Loss 2.1582 Accuracy 0.2782\n",
      "Epoch 9 Batch 500 Loss 2.1624 Accuracy 0.2778\n",
      "Epoch 9 Batch 550 Loss 2.1630 Accuracy 0.2777\n",
      "Epoch 9 Batch 600 Loss 2.1635 Accuracy 0.2777\n",
      "Epoch 9 Batch 650 Loss 2.1647 Accuracy 0.2781\n",
      "Epoch 9 Batch 700 Loss 2.1660 Accuracy 0.2786\n",
      "Epoch 9 Loss 2.1661 Accuracy 0.2785\n",
      "Time taken for 1 epoch: 66.66713547706604 secs\n",
      "\n",
      "Epoch 10 Batch 0 Loss 2.0589 Accuracy 0.2953\n",
      "Epoch 10 Batch 50 Loss 1.9273 Accuracy 0.2938\n",
      "Epoch 10 Batch 100 Loss 1.9381 Accuracy 0.2955\n",
      "Epoch 10 Batch 150 Loss 1.9425 Accuracy 0.2931\n",
      "Epoch 10 Batch 200 Loss 1.9486 Accuracy 0.2929\n",
      "Epoch 10 Batch 250 Loss 1.9514 Accuracy 0.2924\n",
      "Epoch 10 Batch 300 Loss 1.9570 Accuracy 0.2920\n",
      "Epoch 10 Batch 350 Loss 1.9568 Accuracy 0.2922\n",
      "Epoch 10 Batch 400 Loss 1.9586 Accuracy 0.2917\n",
      "Epoch 10 Batch 450 Loss 1.9624 Accuracy 0.2917\n",
      "Epoch 10 Batch 500 Loss 1.9686 Accuracy 0.2914\n",
      "Epoch 10 Batch 550 Loss 1.9708 Accuracy 0.2912\n",
      "Epoch 10 Batch 600 Loss 1.9739 Accuracy 0.2907\n",
      "Epoch 10 Batch 650 Loss 1.9790 Accuracy 0.2903\n",
      "Epoch 10 Batch 700 Loss 1.9829 Accuracy 0.2900\n",
      "Saving checkpoint for epoch 10 at ./checkpoints/train\\ckpt-2\n",
      "Epoch 10 Loss 1.9828 Accuracy 0.2900\n",
      "Time taken for 1 epoch: 67.80113530158997 secs\n",
      "\n",
      "Epoch 11 Batch 0 Loss 1.6731 Accuracy 0.3013\n",
      "Epoch 11 Batch 50 Loss 1.7631 Accuracy 0.3029\n",
      "Epoch 11 Batch 100 Loss 1.7820 Accuracy 0.3033\n",
      "Epoch 11 Batch 150 Loss 1.7875 Accuracy 0.3030\n",
      "Epoch 11 Batch 200 Loss 1.7930 Accuracy 0.3025\n",
      "Epoch 11 Batch 250 Loss 1.7985 Accuracy 0.3014\n",
      "Epoch 11 Batch 300 Loss 1.8078 Accuracy 0.3013\n",
      "Epoch 11 Batch 350 Loss 1.8129 Accuracy 0.3005\n",
      "Epoch 11 Batch 400 Loss 1.8167 Accuracy 0.3002\n",
      "Epoch 11 Batch 450 Loss 1.8184 Accuracy 0.3006\n",
      "Epoch 11 Batch 500 Loss 1.8219 Accuracy 0.3002\n",
      "Epoch 11 Batch 550 Loss 1.8253 Accuracy 0.2998\n",
      "Epoch 11 Batch 600 Loss 1.8304 Accuracy 0.2995\n",
      "Epoch 11 Batch 650 Loss 1.8343 Accuracy 0.2994\n",
      "Epoch 11 Batch 700 Loss 1.8403 Accuracy 0.2989\n",
      "Epoch 11 Loss 1.8401 Accuracy 0.2989\n",
      "Time taken for 1 epoch: 67.10835695266724 secs\n",
      "\n",
      "Epoch 12 Batch 0 Loss 1.6445 Accuracy 0.3037\n",
      "Epoch 12 Batch 50 Loss 1.6411 Accuracy 0.3098\n",
      "Epoch 12 Batch 100 Loss 1.6654 Accuracy 0.3106\n",
      "Epoch 12 Batch 150 Loss 1.6608 Accuracy 0.3084\n",
      "Epoch 12 Batch 200 Loss 1.6734 Accuracy 0.3074\n",
      "Epoch 12 Batch 250 Loss 1.6808 Accuracy 0.3073\n",
      "Epoch 12 Batch 300 Loss 1.6850 Accuracy 0.3072\n",
      "Epoch 12 Batch 350 Loss 1.6882 Accuracy 0.3075\n",
      "Epoch 12 Batch 400 Loss 1.6932 Accuracy 0.3071\n",
      "Epoch 12 Batch 450 Loss 1.6986 Accuracy 0.3072\n",
      "Epoch 12 Batch 500 Loss 1.7025 Accuracy 0.3062\n",
      "Epoch 12 Batch 550 Loss 1.7063 Accuracy 0.3058\n",
      "Epoch 12 Batch 600 Loss 1.7108 Accuracy 0.3056\n",
      "Epoch 12 Batch 650 Loss 1.7168 Accuracy 0.3054\n",
      "Epoch 12 Batch 700 Loss 1.7215 Accuracy 0.3053\n",
      "Epoch 12 Loss 1.7217 Accuracy 0.3053\n",
      "Time taken for 1 epoch: 67.05793762207031 secs\n",
      "\n",
      "Epoch 13 Batch 0 Loss 1.5937 Accuracy 0.3209\n",
      "Epoch 13 Batch 50 Loss 1.5594 Accuracy 0.3177\n",
      "Epoch 13 Batch 100 Loss 1.5600 Accuracy 0.3165\n",
      "Epoch 13 Batch 150 Loss 1.5567 Accuracy 0.3173\n",
      "Epoch 13 Batch 200 Loss 1.5659 Accuracy 0.3169\n",
      "Epoch 13 Batch 250 Loss 1.5750 Accuracy 0.3170\n",
      "Epoch 13 Batch 300 Loss 1.5800 Accuracy 0.3156\n",
      "Epoch 13 Batch 350 Loss 1.5850 Accuracy 0.3149\n",
      "Epoch 13 Batch 400 Loss 1.5892 Accuracy 0.3149\n",
      "Epoch 13 Batch 450 Loss 1.5952 Accuracy 0.3148\n",
      "Epoch 13 Batch 500 Loss 1.6005 Accuracy 0.3145\n",
      "Epoch 13 Batch 550 Loss 1.6040 Accuracy 0.3139\n",
      "Epoch 13 Batch 600 Loss 1.6105 Accuracy 0.3135\n",
      "Epoch 13 Batch 650 Loss 1.6140 Accuracy 0.3135\n",
      "Epoch 13 Batch 700 Loss 1.6202 Accuracy 0.3126\n",
      "Epoch 13 Loss 1.6203 Accuracy 0.3126\n",
      "Time taken for 1 epoch: 67.09760975837708 secs\n",
      "\n",
      "Epoch 14 Batch 0 Loss 1.5411 Accuracy 0.3424\n",
      "Epoch 14 Batch 50 Loss 1.4384 Accuracy 0.3254\n",
      "Epoch 14 Batch 100 Loss 1.4563 Accuracy 0.3239\n",
      "Epoch 14 Batch 150 Loss 1.4704 Accuracy 0.3224\n",
      "Epoch 14 Batch 200 Loss 1.4812 Accuracy 0.3227\n",
      "Epoch 14 Batch 250 Loss 1.4878 Accuracy 0.3222\n",
      "Epoch 14 Batch 300 Loss 1.4915 Accuracy 0.3221\n",
      "Epoch 14 Batch 350 Loss 1.4973 Accuracy 0.3219\n",
      "Epoch 14 Batch 400 Loss 1.5006 Accuracy 0.3210\n",
      "Epoch 14 Batch 450 Loss 1.5049 Accuracy 0.3206\n",
      "Epoch 14 Batch 500 Loss 1.5092 Accuracy 0.3202\n",
      "Epoch 14 Batch 550 Loss 1.5148 Accuracy 0.3194\n",
      "Epoch 14 Batch 600 Loss 1.5216 Accuracy 0.3187\n",
      "Epoch 14 Batch 650 Loss 1.5286 Accuracy 0.3183\n",
      "Epoch 14 Batch 700 Loss 1.5351 Accuracy 0.3178\n",
      "Epoch 14 Loss 1.5351 Accuracy 0.3179\n",
      "Time taken for 1 epoch: 67.24228572845459 secs\n",
      "\n",
      "Epoch 15 Batch 0 Loss 1.3069 Accuracy 0.3619\n",
      "Epoch 15 Batch 50 Loss 1.3565 Accuracy 0.3312\n",
      "Epoch 15 Batch 100 Loss 1.3686 Accuracy 0.3309\n",
      "Epoch 15 Batch 150 Loss 1.3793 Accuracy 0.3294\n",
      "Epoch 15 Batch 200 Loss 1.3909 Accuracy 0.3285\n",
      "Epoch 15 Batch 250 Loss 1.3966 Accuracy 0.3284\n",
      "Epoch 15 Batch 300 Loss 1.4073 Accuracy 0.3284\n",
      "Epoch 15 Batch 350 Loss 1.4144 Accuracy 0.3277\n",
      "Epoch 15 Batch 400 Loss 1.4205 Accuracy 0.3261\n",
      "Epoch 15 Batch 450 Loss 1.4256 Accuracy 0.3254\n",
      "Epoch 15 Batch 500 Loss 1.4318 Accuracy 0.3250\n",
      "Epoch 15 Batch 550 Loss 1.4383 Accuracy 0.3248\n",
      "Epoch 15 Batch 600 Loss 1.4436 Accuracy 0.3245\n",
      "Epoch 15 Batch 650 Loss 1.4515 Accuracy 0.3238\n",
      "Epoch 15 Batch 700 Loss 1.4569 Accuracy 0.3233\n",
      "Saving checkpoint for epoch 15 at ./checkpoints/train\\ckpt-3\n",
      "Epoch 15 Loss 1.4575 Accuracy 0.3233\n",
      "Time taken for 1 epoch: 67.40565729141235 secs\n",
      "\n",
      "Epoch 16 Batch 0 Loss 1.4452 Accuracy 0.3097\n",
      "Epoch 16 Batch 50 Loss 1.3044 Accuracy 0.3355\n",
      "Epoch 16 Batch 100 Loss 1.3121 Accuracy 0.3347\n",
      "Epoch 16 Batch 150 Loss 1.3309 Accuracy 0.3336\n",
      "Epoch 16 Batch 200 Loss 1.3377 Accuracy 0.3320\n",
      "Epoch 16 Batch 250 Loss 1.3394 Accuracy 0.3313\n",
      "Epoch 16 Batch 300 Loss 1.3482 Accuracy 0.3308\n",
      "Epoch 16 Batch 350 Loss 1.3536 Accuracy 0.3305\n",
      "Epoch 16 Batch 400 Loss 1.3562 Accuracy 0.3306\n",
      "Epoch 16 Batch 450 Loss 1.3626 Accuracy 0.3304\n",
      "Epoch 16 Batch 500 Loss 1.3705 Accuracy 0.3300\n",
      "Epoch 16 Batch 550 Loss 1.3760 Accuracy 0.3292\n",
      "Epoch 16 Batch 600 Loss 1.3830 Accuracy 0.3289\n",
      "Epoch 16 Batch 650 Loss 1.3876 Accuracy 0.3287\n",
      "Epoch 16 Batch 700 Loss 1.3929 Accuracy 0.3283\n",
      "Epoch 16 Loss 1.3927 Accuracy 0.3283\n",
      "Time taken for 1 epoch: 67.06873846054077 secs\n",
      "\n",
      "Epoch 17 Batch 0 Loss 1.2205 Accuracy 0.3525\n",
      "Epoch 17 Batch 50 Loss 1.2544 Accuracy 0.3377\n",
      "Epoch 17 Batch 100 Loss 1.2588 Accuracy 0.3363\n",
      "Epoch 17 Batch 150 Loss 1.2607 Accuracy 0.3373\n",
      "Epoch 17 Batch 200 Loss 1.2733 Accuracy 0.3354\n",
      "Epoch 17 Batch 250 Loss 1.2830 Accuracy 0.3349\n",
      "Epoch 17 Batch 300 Loss 1.2890 Accuracy 0.3348\n",
      "Epoch 17 Batch 350 Loss 1.2943 Accuracy 0.3346\n",
      "Epoch 17 Batch 400 Loss 1.3005 Accuracy 0.3346\n",
      "Epoch 17 Batch 450 Loss 1.3061 Accuracy 0.3346\n",
      "Epoch 17 Batch 500 Loss 1.3123 Accuracy 0.3344\n",
      "Epoch 17 Batch 550 Loss 1.3182 Accuracy 0.3340\n",
      "Epoch 17 Batch 600 Loss 1.3228 Accuracy 0.3332\n",
      "Epoch 17 Batch 650 Loss 1.3269 Accuracy 0.3328\n",
      "Epoch 17 Batch 700 Loss 1.3315 Accuracy 0.3322\n",
      "Epoch 17 Loss 1.3316 Accuracy 0.3323\n",
      "Time taken for 1 epoch: 67.22282099723816 secs\n",
      "\n",
      "Epoch 18 Batch 0 Loss 1.1050 Accuracy 0.3363\n",
      "Epoch 18 Batch 50 Loss 1.1908 Accuracy 0.3448\n",
      "Epoch 18 Batch 100 Loss 1.2069 Accuracy 0.3408\n",
      "Epoch 18 Batch 150 Loss 1.2161 Accuracy 0.3427\n",
      "Epoch 18 Batch 200 Loss 1.2232 Accuracy 0.3415\n",
      "Epoch 18 Batch 250 Loss 1.2306 Accuracy 0.3414\n",
      "Epoch 18 Batch 300 Loss 1.2366 Accuracy 0.3402\n",
      "Epoch 18 Batch 350 Loss 1.2440 Accuracy 0.3390\n",
      "Epoch 18 Batch 400 Loss 1.2480 Accuracy 0.3386\n",
      "Epoch 18 Batch 450 Loss 1.2517 Accuracy 0.3381\n",
      "Epoch 18 Batch 500 Loss 1.2579 Accuracy 0.3377\n",
      "Epoch 18 Batch 550 Loss 1.2620 Accuracy 0.3370\n",
      "Epoch 18 Batch 600 Loss 1.2674 Accuracy 0.3364\n",
      "Epoch 18 Batch 650 Loss 1.2737 Accuracy 0.3361\n",
      "Epoch 18 Batch 700 Loss 1.2784 Accuracy 0.3359\n",
      "Epoch 18 Loss 1.2785 Accuracy 0.3359\n",
      "Time taken for 1 epoch: 66.69436764717102 secs\n",
      "\n",
      "Epoch 19 Batch 0 Loss 1.1889 Accuracy 0.3366\n",
      "Epoch 19 Batch 50 Loss 1.1507 Accuracy 0.3468\n",
      "Epoch 19 Batch 100 Loss 1.1534 Accuracy 0.3479\n",
      "Epoch 19 Batch 150 Loss 1.1605 Accuracy 0.3469\n",
      "Epoch 19 Batch 200 Loss 1.1682 Accuracy 0.3443\n",
      "Epoch 19 Batch 250 Loss 1.1727 Accuracy 0.3442\n",
      "Epoch 19 Batch 300 Loss 1.1816 Accuracy 0.3442\n",
      "Epoch 19 Batch 350 Loss 1.1891 Accuracy 0.3432\n",
      "Epoch 19 Batch 400 Loss 1.1937 Accuracy 0.3433\n",
      "Epoch 19 Batch 450 Loss 1.1986 Accuracy 0.3430\n",
      "Epoch 19 Batch 500 Loss 1.2040 Accuracy 0.3422\n",
      "Epoch 19 Batch 550 Loss 1.2109 Accuracy 0.3420\n",
      "Epoch 19 Batch 600 Loss 1.2172 Accuracy 0.3411\n",
      "Epoch 19 Batch 650 Loss 1.2223 Accuracy 0.3409\n",
      "Epoch 19 Batch 700 Loss 1.2284 Accuracy 0.3405\n",
      "Epoch 19 Loss 1.2287 Accuracy 0.3405\n",
      "Time taken for 1 epoch: 67.34420585632324 secs\n",
      "\n",
      "Epoch 20 Batch 0 Loss 1.0614 Accuracy 0.3552\n",
      "Epoch 20 Batch 50 Loss 1.0981 Accuracy 0.3495\n",
      "Epoch 20 Batch 100 Loss 1.1023 Accuracy 0.3500\n",
      "Epoch 20 Batch 150 Loss 1.1118 Accuracy 0.3498\n",
      "Epoch 20 Batch 200 Loss 1.1252 Accuracy 0.3483\n",
      "Epoch 20 Batch 250 Loss 1.1300 Accuracy 0.3478\n",
      "Epoch 20 Batch 300 Loss 1.1326 Accuracy 0.3478\n",
      "Epoch 20 Batch 350 Loss 1.1422 Accuracy 0.3469\n",
      "Epoch 20 Batch 400 Loss 1.1481 Accuracy 0.3471\n",
      "Epoch 20 Batch 450 Loss 1.1532 Accuracy 0.3468\n",
      "Epoch 20 Batch 500 Loss 1.1601 Accuracy 0.3460\n",
      "Epoch 20 Batch 550 Loss 1.1660 Accuracy 0.3454\n",
      "Epoch 20 Batch 600 Loss 1.1735 Accuracy 0.3447\n",
      "Epoch 20 Batch 650 Loss 1.1796 Accuracy 0.3444\n",
      "Epoch 20 Batch 700 Loss 1.1844 Accuracy 0.3436\n",
      "Saving checkpoint for epoch 20 at ./checkpoints/train\\ckpt-4\n",
      "Epoch 20 Loss 1.1844 Accuracy 0.3437\n",
      "Time taken for 1 epoch: 68.04021906852722 secs\n",
      "\n"
     ]
    }
   ],
   "source": [
    "for epoch in range(EPOCHS):\n",
    "  start = time.time()\n",
    "  \n",
    "  train_loss.reset_states()\n",
    "  train_accuracy.reset_states()\n",
    "  \n",
    "  # inp -> portuguese, tar -> english\n",
    "  for (batch, (inp, tar)) in enumerate(train_dataset):\n",
    "    train_step(inp, tar)\n",
    "    \n",
    "    if batch % 50 == 0:\n",
    "      print ('Epoch {} Batch {} Loss {:.4f} Accuracy {:.4f}'.format(\n",
    "          epoch + 1, batch, train_loss.result(), train_accuracy.result()))\n",
    "      \n",
    "  if (epoch + 1) % 5 == 0:\n",
    "    ckpt_save_path = ckpt_manager.save()\n",
    "    print ('Saving checkpoint for epoch {} at {}'.format(epoch+1,\n",
    "                                                         ckpt_save_path))\n",
    "    \n",
    "  print ('Epoch {} Loss {:.4f} Accuracy {:.4f}'.format(epoch + 1, \n",
    "                                                train_loss.result(), \n",
    "                                                train_accuracy.result()))\n",
    "\n",
    "  print ('Time taken for 1 epoch: {} secs\\n'.format(time.time() - start))"
   ]
  },
  {
   "cell_type": "code",
   "execution_count": 71,
   "metadata": {},
   "outputs": [],
   "source": [
    "def evaluate(inp_sentence):\n",
    "  start_token = [tokenizer_pt.vocab_size]\n",
    "  end_token = [tokenizer_pt.vocab_size + 1]\n",
    "  \n",
    "  # inp sentence is portuguese, hence adding the start and end token\n",
    "  inp_sentence = start_token + tokenizer_pt.encode(inp_sentence) + end_token\n",
    "  encoder_input = tf.expand_dims(inp_sentence, 0)\n",
    "  \n",
    "  # as the target is english, the first word to the transformer should be the\n",
    "  # english start token.\n",
    "  decoder_input = [tokenizer_en.vocab_size]\n",
    "  output = tf.expand_dims(decoder_input, 0)\n",
    "    \n",
    "  for i in range(MAX_LENGTH):\n",
    "    enc_padding_mask, combined_mask, dec_padding_mask = create_masks(\n",
    "        encoder_input, output)\n",
    "  \n",
    "    # predictions.shape == (batch_size, seq_len, vocab_size)\n",
    "    predictions, attention_weights = transformer(encoder_input, \n",
    "                                                 output,\n",
    "                                                 False,\n",
    "                                                 enc_padding_mask,\n",
    "                                                 combined_mask,\n",
    "                                                 dec_padding_mask)\n",
    "    \n",
    "    # select the last word from the seq_len dimension\n",
    "    predictions = predictions[: ,-1:, :]  # (batch_size, 1, vocab_size)\n",
    "\n",
    "    predicted_id = tf.cast(tf.argmax(predictions, axis=-1), tf.int32)\n",
    "    \n",
    "    # return the result if the predicted_id is equal to the end token\n",
    "    if predicted_id == tokenizer_en.vocab_size+1:\n",
    "      return tf.squeeze(output, axis=0), attention_weights\n",
    "    \n",
    "    # concatentate the predicted_id to the output which is given to the decoder\n",
    "    # as its input.\n",
    "    output = tf.concat([output, predicted_id], axis=-1)\n",
    "\n",
    "  return tf.squeeze(output, axis=0), attention_weights"
   ]
  },
  {
   "cell_type": "code",
   "execution_count": 72,
   "metadata": {},
   "outputs": [],
   "source": [
    "def plot_attention_weights(attention, sentence, result, layer):\n",
    "  fig = plt.figure(figsize=(16, 8))\n",
    "  \n",
    "  sentence = tokenizer_pt.encode(sentence)\n",
    "  \n",
    "  attention = tf.squeeze(attention[layer], axis=0)\n",
    "  \n",
    "  for head in range(attention.shape[0]):\n",
    "    ax = fig.add_subplot(2, 4, head+1)\n",
    "    \n",
    "    # plot the attention weights\n",
    "    ax.matshow(attention[head][:-1, :], cmap='viridis')\n",
    "\n",
    "    fontdict = {'fontsize': 10}\n",
    "    \n",
    "    ax.set_xticks(range(len(sentence)+2))\n",
    "    ax.set_yticks(range(len(result)))\n",
    "    \n",
    "    ax.set_ylim(len(result)-1.5, -0.5)\n",
    "        \n",
    "    ax.set_xticklabels(\n",
    "        ['<start>']+[tokenizer_pt.decode([i]) for i in sentence]+['<end>'], \n",
    "        fontdict=fontdict, rotation=90)\n",
    "    \n",
    "    ax.set_yticklabels([tokenizer_en.decode([i]) for i in result \n",
    "                        if i < tokenizer_en.vocab_size], \n",
    "                       fontdict=fontdict)\n",
    "    \n",
    "    ax.set_xlabel('Head {}'.format(head+1))\n",
    "  \n",
    "  plt.tight_layout()\n",
    "  plt.show()"
   ]
  },
  {
   "cell_type": "code",
   "execution_count": 73,
   "metadata": {},
   "outputs": [],
   "source": [
    "def translate(sentence, plot=''):\n",
    "  result, attention_weights = evaluate(sentence)\n",
    "  \n",
    "  predicted_sentence = tokenizer_en.decode([i for i in result \n",
    "                                            if i < tokenizer_en.vocab_size])  \n",
    "\n",
    "  print('Input: {}'.format(sentence))\n",
    "  print('Predicted translation: {}'.format(predicted_sentence))\n",
    "  \n",
    "  if plot:\n",
    "    plot_attention_weights(attention_weights, sentence, result, plot)"
   ]
  },
  {
   "cell_type": "code",
   "execution_count": 76,
   "metadata": {},
   "outputs": [
    {
     "name": "stdout",
     "output_type": "stream",
     "text": [
      "Input: este é um problema que temos que resolver.\n",
      "Predicted translation: this is a problem that we have to solve .\n",
      "Real translation: this is a problem we have to solve .\n"
     ]
    }
   ],
   "source": [
    "translate(\"este é um problema que temos que resolver.\")\n",
    "print (\"Real translation: this is a problem we have to solve .\")"
   ]
  },
  {
   "cell_type": "code",
   "execution_count": 77,
   "metadata": {},
   "outputs": [
    {
     "name": "stdout",
     "output_type": "stream",
     "text": [
      "Input: os meus vizinhos ouviram sobre esta ideia.\n",
      "Predicted translation: my neighbors heard about this idea .\n",
      "Real translation: and my neighboring homes heard about this idea .\n"
     ]
    }
   ],
   "source": [
    "translate(\"os meus vizinhos ouviram sobre esta ideia.\")\n",
    "print (\"Real translation: and my neighboring homes heard about this idea .\")"
   ]
  },
  {
   "cell_type": "code",
   "execution_count": null,
   "metadata": {},
   "outputs": [],
   "source": []
  }
 ],
 "metadata": {
  "kernelspec": {
   "display_name": "Python 3",
   "language": "python",
   "name": "python3"
  },
  "language_info": {
   "codemirror_mode": {
    "name": "ipython",
    "version": 3
   },
   "file_extension": ".py",
   "mimetype": "text/x-python",
   "name": "python",
   "nbconvert_exporter": "python",
   "pygments_lexer": "ipython3",
   "version": "3.7.7"
  }
 },
 "nbformat": 4,
 "nbformat_minor": 4
}
